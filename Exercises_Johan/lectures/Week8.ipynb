{
 "cells": [
  {
   "cell_type": "markdown",
   "metadata": {},
   "source": [
    "# Intro\n",
    "\n",
    "It's the last time we meet in class for exercises! And to celebrate this mile-stone, I've put together an very nice little set of exercises. And if you're behind, don't worry. The workload is low!\n",
    "\n",
    "  - Part A: First, we play around with sentiment analysis\n",
    "  - That's it!\n"
   ]
  },
  {
   "cell_type": "markdown",
   "metadata": {},
   "source": [
    "# Part A: Sentiment analysis"
   ]
  },
  {
   "cell_type": "markdown",
   "metadata": {},
   "source": [
    "Sentiment analysis is another highly useful technique which we'll use to make sense of the Wiki\n",
    "data. Further, experience shows that it might well be very useful when you get to the project stage of the class."
   ]
  },
  {
   "cell_type": "markdown",
   "metadata": {},
   "source": [
    "\n",
    "\n",
    "> **Video Lecture**: Uncle Sune talks about sentiment and his own youthful adventures.\n",
    "\n"
   ]
  },
  {
   "cell_type": "code",
   "execution_count": 2,
   "metadata": {
    "scrolled": true
   },
   "outputs": [
    {
     "data": {
      "image/jpeg": "[encoded data removed]",
      "text/html": [
       "\n",
       "        <iframe\n",
       "            width=\"800\"\n",
       "            height=\"450\"\n",
       "            src=\"https://www.youtube.com/embed/JuYcaYYlfrI\"\n",
       "            frameborder=\"0\"\n",
       "            allowfullscreen\n",
       "            \n",
       "        ></iframe>\n",
       "        "
      ],
      "text/plain": [
       "<IPython.lib.display.YouTubeVideo at 0x15f0bb8b890>"
      ]
     },
     "execution_count": 2,
     "metadata": {},
     "output_type": "execute_result"
    }
   ],
   "source": [
    "from IPython.display import YouTubeVideo\n",
    "YouTubeVideo(\"JuYcaYYlfrI\",width=800, height=450)"
   ]
  },
  {
   "cell_type": "code",
   "execution_count": 3,
   "metadata": {},
   "outputs": [
    {
     "data": {
      "image/jpeg": "[encoded data removed]",
      "text/html": [
       "\n",
       "        <iframe\n",
       "            width=\"800\"\n",
       "            height=\"450\"\n",
       "            src=\"https://www.youtube.com/embed/hY0UCD5UiiY\"\n",
       "            frameborder=\"0\"\n",
       "            allowfullscreen\n",
       "            \n",
       "        ></iframe>\n",
       "        "
      ],
      "text/plain": [
       "<IPython.lib.display.YouTubeVideo at 0x15f0b663510>"
      ]
     },
     "execution_count": 3,
     "metadata": {},
     "output_type": "execute_result"
    }
   ],
   "source": [
    "# There's also this one from 2010\n",
    "YouTubeVideo(\"hY0UCD5UiiY\",width=800, height=450)"
   ]
  },
  {
   "cell_type": "markdown",
   "metadata": {},
   "source": [
    "> Reading: [Temporal Patterns of Happiness and Information in a Global Social Network: Hedonometrics and Twitter](http://journals.plos.org/plosone/article?id=10.1371/journal.pone.0026752) \n"
   ]
  },
  {
   "cell_type": "markdown",
   "metadata": {},
   "source": [
    "*Exercise*: Sentiment distribution. \n",
    "> \n",
    "> * Download the LabMT wordlist. It's available as supplementary material from [Temporal Patterns of Happiness and Information in a Global Social Network: Hedonometrics and Twitter](http://journals.plos.org/plosone/article?id=10.1371/journal.pone.0026752) (Data Set S1). Describe briefly how the list was generated.\n",
    "> * Based on the LabMT word list, write a function that calculates sentiment given a list of tokens (the tokens should be lower case, etc).\n",
    "> * Iterage over the nodes in your network, tokenize each page, and calculate sentiment every single page. Now you have sentiment as a new nodal property.\n",
    "> * Calculate the average sentiment across all the pages. Also calculate the median, variance, 25th percentile, 75th percentile.\n",
    "> * Remember histograms? Create a histogram of all of the artists's associated page-sentiments. (And make it a nice histogram - use your histogram making skills from Week 2). Add the mean, meadian, ect from above to your plot.\n",
    "> * Who are the 10 artists with happiest and saddest pages?\n",
    "\n",
    "<div class=\"alert alert-block alert-info\">\n",
    "As long as you get the plots right, it's OK to use LLM help here.\n",
    "</div>\n",
    "\n",
    "*Exercise*: Community sentiment distribution. \n",
    "  \n",
    "> * Last week we calculated the stuctural communities of the graph. For this exercise, we use those communities (just the 10 largest ones). Specifically, you should calculate the average the average sentiment of the nodes in each community to find a *community level sentiment*. \n",
    ">   - Name each community by its three most connected characters. \n",
    ">   - What are the three happiest communities? \n",
    ">   - what are the three saddest communities?\n",
    ">   - Do these results confirm what you can learn about each community by comparing to the genres, checking out the word-clouds for each community, and reading the wiki-pages? \n",
    "> * Compare the sentiment of the happiest and saddest communities to the overall (entire network) distribution of sentiment that you calculated in the previous exercise. Are the communities very differenct from the average? Or do you find the sentiment to be quite similar across all of the communities?\n",
    "\n",
    "<div class=\"alert alert-block alert-info\">\n",
    "As above, feel free to go nuts with help from an LLM with this exercise for the technical parts. But try to answer the questions about interpreting the results with your own human brain.\n",
    "</div>\n",
    "\n",
    "**Note**: Calculating sentiment takes a long time, so arm yourself with patience as your code runs (remember to check that it runs correctly, before waiting patiently). Further, these tips may speed things up. And save somewhere, so you don't have to start over.\n",
    "\n",
    "**Tips for speed**\n",
    "* If you use `freqDist` prior to finding the sentiment, you only have to find it for every unique word and hereafter you can do a weighted mean.\n",
    "* More tips for speeding up loops https://wiki.python.org/moin/PythonSpeed/PerformanceTips#Loops"
   ]
  },
  {
   "cell_type": "code",
   "execution_count": 1,
   "metadata": {},
   "outputs": [
    {
     "name": "stdout",
     "output_type": "stream",
     "text": [
      "Index(['word', 'happiness_rank', 'happiness_average',\n",
      "       'happiness_standard_deviation', 'twitter_rank', 'google_rank',\n",
      "       'nyt_rank', 'lyrics_rank'],\n",
      "      dtype='object')\n",
      "(10222, 8)\n",
      "        word  happiness_rank  happiness_average  happiness_standard_deviation  \\\n",
      "0   laughter               1               8.50                        0.9313   \n",
      "1  happiness               2               8.44                        0.9723   \n",
      "2       love               3               8.42                        1.1082   \n",
      "3      happy               4               8.30                        0.9949   \n",
      "4    laughed               5               8.26                        1.1572   \n",
      "\n",
      "  twitter_rank google_rank nyt_rank lyrics_rank  \n",
      "0         3600          --       --        1728  \n",
      "1         1853        2458       --        1230  \n",
      "2           25         317      328          23  \n",
      "3           65        1372     1313         375  \n",
      "4         3334        3542       --        2332  \n"
     ]
    }
   ],
   "source": [
    "import pandas as pd\n",
    "\n",
    "# Path to your file (update with the actual file path)\n",
    "file_path = \"../data/LabMT_wordlist.txt\"\n",
    "\n",
    "# Load the data\n",
    "df = pd.read_csv(file_path, sep='\\s+', skiprows=2)  # Skipping first two lines for headers\n",
    "\n",
    "# Display the DataFrame\n",
    "print(df.columns)\n",
    "print(df.shape)\n",
    "print(df.head(5))\n"
   ]
  },
  {
   "cell_type": "code",
   "execution_count": 2,
   "metadata": {},
   "outputs": [],
   "source": [
    "import numpy as np\n",
    "\n",
    "# Create a dictionary mapping words to their happiness scores\n",
    "happiness_dict = dict(zip(df['word'], df['happiness_average']))\n",
    "\n",
    "def calculate_sentiment(tokens):\n",
    "    \"\"\"\n",
    "    Calculate the average happiness score for a list of tokens.\n",
    "    \"\"\"\n",
    "    scores = [happiness_dict.get(token, 5.0) for token in tokens]  # Default to neutral score 5.0 if word not in list\n",
    "    if scores:\n",
    "        return np.mean(scores)\n",
    "    else:\n",
    "        return 0  # Return 0 if no tokens are provided\n"
   ]
  },
  {
   "cell_type": "code",
   "execution_count": 25,
   "metadata": {},
   "outputs": [],
   "source": [
    "import networkx as nx\n",
    "import nltk\n",
    "from nltk.tokenize import word_tokenize\n",
    "import re\n",
    "import numpy as np\n",
    "from tqdm import tqdm\n",
    "from networkx.readwrite import json_graph\n",
    "import json\n",
    "import nltk\n",
    "from nltk.corpus import stopwords\n",
    "import string\n",
    "\n",
    "# Load JSON data\n",
    "with open(r\"C:\\Users\\jbhan\\Desktop\\socialgraphs2024\\data\\country_musician_graph_genres_content.json\", \"r\", encoding=\"utf-8\") as f:\n",
    "    data = json.load(f)\n",
    "\n",
    "# Convert JSON data back to a NetworkX graph\n",
    "G = json_graph.node_link_graph(data)"
   ]
  },
  {
   "cell_type": "code",
   "execution_count": 26,
   "metadata": {},
   "outputs": [
    {
     "name": "stderr",
     "output_type": "stream",
     "text": [
      "Calculating sentiment for nodes: 100%|██████████| 1737/1737 [00:00<00:00, 6810.57it/s]\n"
     ]
    }
   ],
   "source": [
    "# Calculate sentiment for each node\n",
    "sentiments = {}\n",
    "\n",
    "for node in tqdm(G.nodes(), desc='Calculating sentiment for nodes'):\n",
    "    content = G.nodes[node].get('content', '')\n",
    "    tokens = content.split()\n",
    "    # Calculate sentiment\n",
    "    sentiment = calculate_sentiment(tokens)\n",
    "    # Store sentiment as a node attribute\n",
    "    G.nodes[node]['sentiment'] = sentiment\n",
    "    sentiments[node] = sentiment\n"
   ]
  },
  {
   "cell_type": "code",
   "execution_count": 27,
   "metadata": {},
   "outputs": [
    {
     "name": "stdout",
     "output_type": "stream",
     "text": [
      "Average Sentiment: 5.6975\n",
      "Median Sentiment: 5.6932\n",
      "Variance of Sentiment: 0.0100\n",
      "25th Percentile: 5.6305\n",
      "75th Percentile: 5.7568\n"
     ]
    }
   ],
   "source": [
    "import statistics\n",
    "\n",
    "# Extract sentiment values\n",
    "sentiment_values = list(sentiments.values())\n",
    "\n",
    "# Calculate statistics\n",
    "mean_sentiment = np.mean(sentiment_values)\n",
    "median_sentiment = np.median(sentiment_values)\n",
    "variance_sentiment = np.var(sentiment_values)\n",
    "percentile_25 = np.percentile(sentiment_values, 25)\n",
    "percentile_75 = np.percentile(sentiment_values, 75)\n",
    "\n",
    "print(f\"Average Sentiment: {mean_sentiment:.4f}\")\n",
    "print(f\"Median Sentiment: {median_sentiment:.4f}\")\n",
    "print(f\"Variance of Sentiment: {variance_sentiment:.4f}\")\n",
    "print(f\"25th Percentile: {percentile_25:.4f}\")\n",
    "print(f\"75th Percentile: {percentile_75:.4f}\")\n"
   ]
  },
  {
   "cell_type": "code",
   "execution_count": 28,
   "metadata": {},
   "outputs": [
    {
     "data": {
      "image/png": "[encoded data removed]",
      "text/plain": [
       "<Figure size 1000x600 with 1 Axes>"
      ]
     },
     "metadata": {},
     "output_type": "display_data"
    }
   ],
   "source": [
    "import matplotlib.pyplot as plt\n",
    "\n",
    "# Plot histogram\n",
    "plt.figure(figsize=(10, 6))\n",
    "plt.hist(sentiment_values, bins=20, color='skyblue', edgecolor='black', alpha=0.7)\n",
    "\n",
    "# Add mean and median lines\n",
    "plt.axvline(mean_sentiment, color='red', linestyle='dashed', linewidth=1.5, label=f'Mean: {mean_sentiment:.2f}')\n",
    "plt.axvline(median_sentiment, color='green', linestyle='dashed', linewidth=1.5, label=f'Median: {median_sentiment:.2f}')\n",
    "\n",
    "# Add percentile lines\n",
    "plt.axvline(percentile_25, color='orange', linestyle='dashed', linewidth=1, label=f'25th Percentile: {percentile_25:.2f}')\n",
    "plt.axvline(percentile_75, color='purple', linestyle='dashed', linewidth=1, label=f'75th Percentile: {percentile_75:.2f}')\n",
    "\n",
    "plt.title('Histogram of Artist Page Sentiments')\n",
    "plt.xlabel('Sentiment Score')\n",
    "plt.ylabel('Number of Artists')\n",
    "plt.legend()\n",
    "plt.grid(True)\n",
    "plt.show()\n"
   ]
  },
  {
   "cell_type": "code",
   "execution_count": 29,
   "metadata": {},
   "outputs": [
    {
     "name": "stdout",
     "output_type": "stream",
     "text": [
      "Number of artists with 0 sentiment: 0\n",
      "[]\n"
     ]
    }
   ],
   "source": [
    "# artists with 0 sentiment\n",
    "zero_sentiment_artists = [artist for artist, sentiment in sentiments.items() if sentiment == 0]\n",
    "print(f\"Number of artists with 0 sentiment: {len(zero_sentiment_artists)}\")\n",
    "\n",
    "print(zero_sentiment_artists)"
   ]
  },
  {
   "cell_type": "code",
   "execution_count": 30,
   "metadata": {},
   "outputs": [
    {
     "name": "stdout",
     "output_type": "stream",
     "text": [
      "10 Saddest Artists:\n",
      "Mindy_McCready: 5.3443\n",
      "Carl_Belew: 5.3907\n",
      "Giant_Sand: 5.3991\n",
      "Johnny_Van_Zant: 5.4104\n",
      "Joey_Feek: 5.4128\n",
      "S-K-O: 5.4204\n",
      "Tex_Williams: 5.4263\n",
      "Ira_Louvin: 5.4295\n",
      "David_\"Stringbean\"_Akeman: 5.4311\n",
      "Mickie_James: 5.4442\n",
      "\n",
      "10 Happiest Artists:\n",
      "Doc_Walker: 6.1426\n",
      "McAlister_Kemp: 6.0803\n",
      "McKenna_Faith: 6.0641\n",
      "Tara_Lyn_Hart: 6.0281\n",
      "Aleyce_Simmonds: 6.0256\n",
      "Raquel_Cole: 6.0166\n",
      "Jessie_Farrell: 6.0052\n",
      "CB30: 5.9942\n",
      "The_Sunny_Cowgirls: 5.9892\n",
      "Gina_Jeffreys: 5.9880\n"
     ]
    }
   ],
   "source": [
    "# Sort the sentiments\n",
    "sorted_sentiments = sorted(sentiments.items(), key=lambda x: x[1])\n",
    "\n",
    "# 10 Saddest Artists\n",
    "saddest_artists = sorted_sentiments[:10]\n",
    "print(\"10 Saddest Artists:\")\n",
    "for artist, sentiment in saddest_artists:\n",
    "    print(f\"{artist}: {sentiment:.4f}\")\n",
    "\n",
    "# 10 Happiest Artists\n",
    "happiest_artists = sorted_sentiments[-10:]\n",
    "print(\"\\n10 Happiest Artists:\")\n",
    "for artist, sentiment in reversed(happiest_artists):\n",
    "    print(f\"{artist}: {sentiment:.4f}\")\n"
   ]
  },
  {
   "cell_type": "code",
   "execution_count": 32,
   "metadata": {},
   "outputs": [],
   "source": [
    "from collections import defaultdict\n",
    "\n",
    "\n",
    "# load louvain partition\n",
    "with open(r\"C:\\Users\\jbhan\\Desktop\\socialgraphs2024\\data\\genre_louvain_partition.json\", \"r\", encoding=\"utf-8\") as f:\n",
    "    partition = json.load(f)\n",
    "\n",
    "# remove nodes without sentiment\n",
    "nodes_to_remove = [node for node in partition if node not in sentiments]\n",
    "for node in nodes_to_remove:\n",
    "    partition.pop(node)\n",
    "\n",
    "# Initialize dictionary to store sentiments per community\n",
    "community_sentiments = defaultdict(list)\n",
    "\n",
    "# Group sentiments by community\n",
    "for node, community in partition.items():\n",
    "    sentiment = G.nodes[node].get('sentiment', None)\n",
    "    if sentiment is not None:\n",
    "        community_sentiments[community].append(sentiment)\n",
    "\n",
    "# Calculate average sentiment per community\n",
    "average_community_sentiment = {}\n",
    "for community, sentiments_list in community_sentiments.items():\n",
    "    average_sentiment = np.mean(sentiments_list)\n",
    "    average_community_sentiment[community] = average_sentiment\n"
   ]
  },
  {
   "cell_type": "code",
   "execution_count": 33,
   "metadata": {},
   "outputs": [],
   "source": [
    "# Get the degrees of nodes\n",
    "degrees = dict(G.degree())\n",
    "\n",
    "# Initialize dictionary to store community members\n",
    "community_members = defaultdict(list)\n",
    "\n",
    "# Group nodes by community\n",
    "for node, community in partition.items():\n",
    "    community_members[community].append(node)\n",
    "\n",
    "# Get top 3 nodes by degree in each community\n",
    "community_names = {}\n",
    "for community, members in community_members.items():\n",
    "    # Sort members by degree\n",
    "    sorted_members = sorted(members, key=lambda x: degrees[x], reverse=True)\n",
    "    top_members = sorted_members[:3]\n",
    "    community_names[community] = top_members\n"
   ]
  },
  {
   "cell_type": "code",
   "execution_count": 34,
   "metadata": {},
   "outputs": [
    {
     "name": "stdout",
     "output_type": "stream",
     "text": [
      "Three Saddest Communities:\n",
      "Community 1 (Bonnie_Tyler, Jessica_Sierra): 5.6051\n",
      "Community 9 (Ilse_DeLange, Giant_Sand, The_Common_Linnets): 5.6327\n",
      "Community 0 (Willie_Nelson, Waylon_Jennings, Kris_Kristofferson): 5.6543\n",
      "\n",
      "Three Happiest Communities:\n",
      "Community 10 (Catherine_Britt, Tommy_Emmanuel, Beccy_Cole): 5.8764\n",
      "Community 5 (George_Canyon, Aaron_Pritchett, One_More_Girl): 5.8640\n",
      "Community 8 (Sean_Hogan, Duane_Steele, Beverley_Mahood): 5.8531\n"
     ]
    }
   ],
   "source": [
    "# Sort communities by average sentiment\n",
    "sorted_communities = sorted(average_community_sentiment.items(), key=lambda x: x[1])\n",
    "\n",
    "# Three Saddest Communities\n",
    "saddest_communities = sorted_communities[:3]\n",
    "print(\"Three Saddest Communities:\")\n",
    "for community, sentiment in saddest_communities:\n",
    "    names = ', '.join(community_names[community])\n",
    "    print(f\"Community {community} ({names}): {sentiment:.4f}\")\n",
    "\n",
    "# Three Happiest Communities\n",
    "happiest_communities = sorted_communities[-3:]\n",
    "print(\"\\nThree Happiest Communities:\")\n",
    "for community, sentiment in reversed(happiest_communities):\n",
    "    names = ', '.join(community_names[community])\n",
    "    print(f\"Community {community} ({names}): {sentiment:.4f}\")\n"
   ]
  },
  {
   "cell_type": "code",
   "execution_count": null,
   "metadata": {},
   "outputs": [
    {
     "name": "stdout",
     "output_type": "stream",
     "text": [
      "\n",
      "Community Sentiment Comparison to Overall Mean:\n",
      "Community 0: Average Sentiment = 5.6543, Difference from Overall Mean = -0.0433\n",
      "Community 7: Average Sentiment = 5.6621, Difference from Overall Mean = -0.0354\n",
      "Community 2: Average Sentiment = 5.6868, Difference from Overall Mean = -0.0107\n",
      "Community 3: Average Sentiment = 5.7335, Difference from Overall Mean = 0.0359\n",
      "Community 4: Average Sentiment = 5.6950, Difference from Overall Mean = -0.0026\n",
      "Community 5: Average Sentiment = 5.8640, Difference from Overall Mean = 0.1665\n",
      "Community 6: Average Sentiment = 5.6883, Difference from Overall Mean = -0.0093\n",
      "Community 8: Average Sentiment = 5.8531, Difference from Overall Mean = 0.1555\n",
      "Community 9: Average Sentiment = 5.6327, Difference from Overall Mean = -0.0649\n",
      "Community 10: Average Sentiment = 5.8764, Difference from Overall Mean = 0.1789\n",
      "Community 1: Average Sentiment = 5.6051, Difference from Overall Mean = -0.0925\n"
     ]
    }
   ],
   "source": [
    "# Overall sentiment statistics\n",
    "overall_mean = np.mean(sentiment_values)\n",
    "\n",
    "# Compare each community's average sentiment to the overall mean\n",
    "print(\"\\nCommunity Sentiment Comparison to Overall Mean:\")\n",
    "for community, avg_sentiment in average_community_sentiment.items():\n",
    "    difference = avg_sentiment - overall_mean\n",
    "    print(f\"Community {community}: Average Sentiment = {avg_sentiment:.4f}, Difference from Overall Mean = {difference:.4f}\")"
   ]
  }
 ],
 "metadata": {
  "kernelspec": {
   "display_name": "Python 3",
   "language": "python",
   "name": "python3"
  },
  "language_info": {
   "codemirror_mode": {
    "name": "ipython",
    "version": 3
   },
   "file_extension": ".py",
   "mimetype": "text/x-python",
   "name": "python",
   "nbconvert_exporter": "python",
   "pygments_lexer": "ipython3",
   "version": "3.10.10"
  }
 },
 "nbformat": 4,
 "nbformat_minor": 4
}
